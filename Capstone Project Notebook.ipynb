{
    "cells": [
        {
            "cell_type": "markdown",
            "metadata": {
                "collapsed": true
            },
            "source": "# Comparing Popularity of Venues in New York Boroughs Affected by COVID-19"
        },
        {
            "cell_type": "markdown",
            "metadata": {},
            "source": "## The Problem"
        },
        {
            "cell_type": "markdown",
            "metadata": {},
            "source": "New York city has been one of the most impacted cities in the United States by COVID-19. In the last six months, there have been over 220,000 confirmed cases in the city itself. Currently, the city is reopening. With the reopening of the city, the population may have different needs or wants in terms of available businesses. Prospective business owners are curious as to which venues are most popular in each borough and if there is a relation between the number of COVID cases and the type of popular venues."
        },
        {
            "cell_type": "markdown",
            "metadata": {},
            "source": "## The Data"
        },
        {
            "cell_type": "markdown",
            "metadata": {},
            "source": "The data necessary to solve this problem includes New York neighborhood data, New York COVID-19 data, and Foursquare location data. \n\nFor this problem, it is essential to be able to segment the neighborhoods in New York as there may be drastic differences between COVID cases and/or venue popularity. We will need a dataset that contains the 5 boroughs and 306 neighborhoods in New York city as well as the latitude and longitude coordinates of each neighborhood. Such a dataset is readily available for free: https://geo.nyu.edu/catalog/nyu_2451_34572.\n\nAdditionally, we will need data to determine the prevalence of the virus. We need a dataset containing the number of covid cases by the neighborhood. This data is available here: https://github.com/nychealth/coronavirus-data/blob/master/data-by-modzcta.csv.\n\nFinally, we will use the Foursquare location data to determine which nearby venues are most popular in the different neighborhoods."
        },
        {
            "cell_type": "code",
            "execution_count": 1,
            "metadata": {},
            "outputs": [
                {
                    "name": "stdout",
                    "output_type": "stream",
                    "text": "Hello Capstone Project Course!\n"
                }
            ],
            "source": "import pandas as pd\nimport numpy as np\nprint('Hello Capstone Project Course!')"
        }
    ],
    "metadata": {
        "kernelspec": {
            "display_name": "Python 3.6",
            "language": "python",
            "name": "python3"
        },
        "language_info": {
            "codemirror_mode": {
                "name": "ipython",
                "version": 3
            },
            "file_extension": ".py",
            "mimetype": "text/x-python",
            "name": "python",
            "nbconvert_exporter": "python",
            "pygments_lexer": "ipython3",
            "version": "3.6.9"
        }
    },
    "nbformat": 4,
    "nbformat_minor": 1
}